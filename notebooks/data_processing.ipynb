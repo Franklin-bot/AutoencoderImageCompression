{
 "cells": [
  {
   "cell_type": "code",
   "execution_count": 5,
   "metadata": {},
   "outputs": [],
   "source": [
    "import pandas as pd\n",
    "import numpy as np\n",
    "from tqdm import tqdm\n",
    "import cv2\n",
    "import os"
   ]
  },
  {
   "cell_type": "code",
   "execution_count": 6,
   "metadata": {},
   "outputs": [
    {
     "name": "stderr",
     "output_type": "stream",
     "text": [
      "100%|██████████| 3533/3533 [00:10<00:00, 329.56it/s]\n"
     ]
    }
   ],
   "source": [
    "raw_path = \"/Users/FranklinZhao/TensorFlowProjects/AutoEncoderCompression/data/raw\"\n",
    "files = os.listdir(raw_path)\n",
    "images = []\n",
    "\n",
    "for file in tqdm(files):\n",
    "    image_path = os.path.join(raw_path, file)\n",
    "    image = cv2.imread(image_path)\n",
    "    image = cv2.resize(image, (64, 64))\n",
    "    image = image.astype(np.float32)/255\n",
    "    images.append(image)\n",
    "\n",
    "\n",
    "\n"
   ]
  },
  {
   "cell_type": "code",
   "execution_count": 8,
   "metadata": {},
   "outputs": [
    {
     "name": "stdout",
     "output_type": "stream",
     "text": [
      "(3533, 64, 64, 3)\n"
     ]
    }
   ],
   "source": [
    "images = np.stack(images, axis=0)\n",
    "print(images.shape)\n",
    "\n",
    "processed_path = '/Users/FranklinZhao/TensorFlowProjects/AutoEncoderCompression/data/processed/images'\n",
    "np.save(processed_path, images)"
   ]
  },
  {
   "cell_type": "code",
   "execution_count": null,
   "metadata": {},
   "outputs": [],
   "source": []
  }
 ],
 "metadata": {
  "kernelspec": {
   "display_name": ".venv",
   "language": "python",
   "name": "python3"
  },
  "language_info": {
   "codemirror_mode": {
    "name": "ipython",
    "version": 3
   },
   "file_extension": ".py",
   "mimetype": "text/x-python",
   "name": "python",
   "nbconvert_exporter": "python",
   "pygments_lexer": "ipython3",
   "version": "3.11.2"
  },
  "orig_nbformat": 4
 },
 "nbformat": 4,
 "nbformat_minor": 2
}
