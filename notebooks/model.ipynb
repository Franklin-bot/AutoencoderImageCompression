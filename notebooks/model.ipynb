{
 "cells": [
  {
   "cell_type": "code",
   "execution_count": 10,
   "metadata": {},
   "outputs": [],
   "source": [
    "import numpy as np\n",
    "import tensorflow as tf\n",
    "from keras.models import Sequential\n",
    "from keras.layers import Conv2D, MaxPooling2D, Dense, Flatten, PReLU, Conv2DTranspose, UpSampling2D, Reshape\n"
   ]
  },
  {
   "cell_type": "code",
   "execution_count": 11,
   "metadata": {},
   "outputs": [],
   "source": [
    "images = np.load('/Users/FranklinZhao/TensorFlowProjects/AutoEncoderCompression/data/processed/images.npy')"
   ]
  },
  {
   "cell_type": "code",
   "execution_count": 12,
   "metadata": {},
   "outputs": [],
   "source": [
    "# split data\n",
    "train_size = int(len(images)*.85)\n",
    "test_size = len(images) - train_size\n",
    "\n",
    "train = images[:train_size]\n",
    "test = images[train_size:]"
   ]
  },
  {
   "cell_type": "code",
   "execution_count": 14,
   "metadata": {},
   "outputs": [],
   "source": [
    "autoencoder = Sequential()\n",
    "autoencoder.add(Conv2D(32, kernel_size=(3, 3), strides=1, padding='same', input_shape = (64, 64, 3)))\n",
    "autoencoder.add(PReLU())\n",
    "autoencoder.add(Conv2D(filters=32, kernel_size=(3, 3), strides=2, padding='same'))\n",
    "autoencoder.add(PReLU())\n",
    "\n",
    "autoencoder.add(Conv2D(filters=64, kernel_size=(3, 3), strides=1, padding='same'))\n",
    "autoencoder.add(PReLU())\n",
    "autoencoder.add(Conv2D(filters=32, kernel_size=(3, 3), strides=2, padding='same'))\n",
    "autoencoder.add(PReLU())\n",
    "\n",
    "# build the decoder\n",
    "autoencoder.add(Conv2DTranspose(filters=64, kernel_size=(3, 3), strides=1, padding='same', input_shape = (16, 16, 32)))\n",
    "autoencoder.add(PReLU())\n",
    "autoencoder.add(Conv2DTranspose(filters=64, kernel_size=(4, 4), strides=2, padding='same'))\n",
    "autoencoder.add(PReLU())\n",
    "\n",
    "autoencoder.add(Conv2DTranspose(filters=32, kernel_size=(3, 3), strides=1, padding='same'))\n",
    "autoencoder.add(PReLU())\n",
    "autoencoder.add(Conv2DTranspose(filters=3, kernel_size=(4, 4), strides=2, padding='same'))\n",
    "autoencoder.add(PReLU())"
   ]
  },
  {
   "cell_type": "code",
   "execution_count": 15,
   "metadata": {},
   "outputs": [
    {
     "name": "stdout",
     "output_type": "stream",
     "text": [
      "Model: \"sequential_6\"\n",
      "_________________________________________________________________\n",
      " Layer (type)                Output Shape              Param #   \n",
      "=================================================================\n",
      " conv2d_22 (Conv2D)          (None, 64, 64, 32)        896       \n",
      "                                                                 \n",
      " p_re_lu_33 (PReLU)          (None, 64, 64, 32)        131072    \n",
      "                                                                 \n",
      " conv2d_23 (Conv2D)          (None, 32, 32, 32)        9248      \n",
      "                                                                 \n",
      " p_re_lu_34 (PReLU)          (None, 32, 32, 32)        32768     \n",
      "                                                                 \n",
      " conv2d_24 (Conv2D)          (None, 32, 32, 64)        18496     \n",
      "                                                                 \n",
      " p_re_lu_35 (PReLU)          (None, 32, 32, 64)        65536     \n",
      "                                                                 \n",
      " conv2d_25 (Conv2D)          (None, 16, 16, 32)        18464     \n",
      "                                                                 \n",
      " p_re_lu_36 (PReLU)          (None, 16, 16, 32)        8192      \n",
      "                                                                 \n",
      " flatten_3 (Flatten)         (None, 8192)              0         \n",
      "                                                                 \n",
      " dense_11 (Dense)            (None, 8192)              67117056  \n",
      "                                                                 \n",
      " dense_12 (Dense)            (None, 4096)              33558528  \n",
      "                                                                 \n",
      " dense_13 (Dense)            (None, 2048)              8390656   \n",
      "                                                                 \n",
      " dense_14 (Dense)            (None, 4096)              8392704   \n",
      "                                                                 \n",
      " dense_15 (Dense)            (None, 8192)              33562624  \n",
      "                                                                 \n",
      " reshape (Reshape)           (None, 16, 16, 32)        0         \n",
      "                                                                 \n",
      " conv2d_transpose_11 (Conv2  (None, 16, 16, 64)        18496     \n",
      " DTranspose)                                                     \n",
      "                                                                 \n",
      " p_re_lu_37 (PReLU)          (None, 16, 16, 64)        16384     \n",
      "                                                                 \n",
      " conv2d_transpose_12 (Conv2  (None, 32, 32, 64)        65600     \n",
      " DTranspose)                                                     \n",
      "                                                                 \n",
      " p_re_lu_38 (PReLU)          (None, 32, 32, 64)        65536     \n",
      "                                                                 \n",
      " conv2d_transpose_13 (Conv2  (None, 32, 32, 32)        18464     \n",
      " DTranspose)                                                     \n",
      "                                                                 \n",
      " p_re_lu_39 (PReLU)          (None, 32, 32, 32)        32768     \n",
      "                                                                 \n",
      " conv2d_transpose_14 (Conv2  (None, 64, 64, 3)         1539      \n",
      " DTranspose)                                                     \n",
      "                                                                 \n",
      " p_re_lu_40 (PReLU)          (None, 64, 64, 3)         12288     \n",
      "                                                                 \n",
      "=================================================================\n",
      "Total params: 151537315 (578.07 MB)\n",
      "Trainable params: 151537315 (578.07 MB)\n",
      "Non-trainable params: 0 (0.00 Byte)\n",
      "_________________________________________________________________\n"
     ]
    }
   ],
   "source": [
    "autoencoder.build()\n",
    "autoencoder.compile(optimizer='adam', loss='mean_squared_error')\n",
    "autoencoder.summary()"
   ]
  },
  {
   "cell_type": "code",
   "execution_count": null,
   "metadata": {},
   "outputs": [],
   "source": [
    "autoencoder.fit(x=train, y=train, epochs=100, batch_size=4)"
   ]
  },
  {
   "cell_type": "code",
   "execution_count": null,
   "metadata": {},
   "outputs": [],
   "source": []
  }
 ],
 "metadata": {
  "kernelspec": {
   "display_name": ".venv",
   "language": "python",
   "name": "python3"
  },
  "language_info": {
   "codemirror_mode": {
    "name": "ipython",
    "version": 3
   },
   "file_extension": ".py",
   "mimetype": "text/x-python",
   "name": "python",
   "nbconvert_exporter": "python",
   "pygments_lexer": "ipython3",
   "version": "3.11.2"
  },
  "orig_nbformat": 4
 },
 "nbformat": 4,
 "nbformat_minor": 2
}
